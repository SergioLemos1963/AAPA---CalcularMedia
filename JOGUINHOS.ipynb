{
  "nbformat": 4,
  "nbformat_minor": 0,
  "metadata": {
    "colab": {
      "name": "JOGUINHOS.ipynb",
      "provenance": [],
      "collapsed_sections": [],
      "include_colab_link": true
    },
    "kernelspec": {
      "name": "python3",
      "display_name": "Python 3"
    },
    "language_info": {
      "name": "python"
    }
  },
  "cells": [
    {
      "cell_type": "markdown",
      "metadata": {
        "id": "view-in-github",
        "colab_type": "text"
      },
      "source": [
        "<a href=\"https://colab.research.google.com/github/SergioLemos1963/AAPA---CalcularMedia/blob/man/JOGUINHOS.ipynb\" target=\"_parent\"><img src=\"https://colab.research.google.com/assets/colab-badge.svg\" alt=\"Open In Colab\"/></a>"
      ]
    },
    {
      "cell_type": "code",
      "execution_count": null,
      "metadata": {
        "colab": {
          "base_uri": "https://localhost:8080/"
        },
        "id": "fujk8cKQAfK0",
        "outputId": "6079a321-e4ae-49ef-bc1b-b2e0ef7e2afe"
      },
      "outputs": [
        {
          "output_type": "stream",
          "name": "stdout",
          "text": [
            "Escolhe um número de 1 a 100: 80\n",
            "Digite um numero maior \n",
            "Você ainda tem 6 chance(s)\n",
            "\n",
            "Escolhe um número de 1 a 100: 90\n",
            "Digite um numero maior \n",
            "Você ainda tem 5 chance(s)\n",
            "\n",
            "Escolhe um número de 1 a 100: 95\n",
            "Digite um numero menor \n",
            "Você ainda tem 4 chance(s)\n",
            "\n",
            "Escolhe um número de 1 a 100: 93\n",
            "Digite um numero menor \n",
            "Você ainda tem 3 chance(s)\n",
            "\n",
            "Escolhe um número de 1 a 100: 91\n",
            "acertou\n"
          ]
        }
      ],
      "source": [
        "#-----ADIVINHA O NUMERO------#\n",
        "\n",
        "import random\n",
        "num = random.randint(1,100)\n",
        "count = 7\n",
        "for i in range (7):\n",
        "  teste = int(input(\"Escolhe um número de 1 a 100: \"))\n",
        "  if teste==num:\n",
        "    print(\"acertou\")\n",
        "    break\n",
        "  if i == 6:\n",
        "    print(\"Acabou suas chances\")\n",
        "    print(\"O número era \",num)\n",
        "  elif teste > num:\n",
        "    print(\"Digite um numero menor \")\n",
        "    count-=1\n",
        "    print(\"Você ainda tem {} chance(s)\\n\".format(count))\n",
        "  else:\n",
        "    print(\"Digite um numero maior \")\n",
        "    count-=1\n",
        "    print(\"Você ainda tem {} chance(s)\\n\".format(count))"
      ]
    },
    {
      "cell_type": "code",
      "source": [
        "#-----21\n",
        "\n",
        "from random import randint\n",
        "num = randint(1,11)\n",
        "ad = randint(15,21)\n",
        "print(\"Por favor. Digite apenas:\\nS-(sim)\\nN-(não)\")\n",
        "print(\"Você tem {} pontos\".format(num))\n",
        "resp = input(\"Quer mais? \")\n",
        "resp = resp.upper()\n",
        "#if resp !=\"S\" or resp !=\"N\":\n",
        "    #print(\"Não entendi...\")\n",
        "while resp == \"S\":\n",
        "  num = num + randint(1,11)\n",
        "  if num<21:\n",
        "    print(\"Agora você tem {} pontos\".format(num))\n",
        "    resp = input(\"Quer mais? \")\n",
        "    resp = resp.upper()\n",
        "  elif num>21:\n",
        "      print(\"Você passou com {} pontos, seu adversário tinha {} pontos\".format(num,ad))\n",
        "      break\n",
        "  elif num==21:\n",
        "      print(\"Você fez 21!!\\nParabéns\")\n",
        "      break\n",
        "while resp == \"N\":\n",
        "  print(\"Vc terminou o jogo com {} pontos e seu adversário fez {} pontos\".format(num,ad))\n",
        "  if ad>num:\n",
        "        print(\"Perdeu\")\n",
        "        break\n",
        "  elif ad==num:\n",
        "        print(\"Empatou! Que cagada\")\n",
        "        break\n",
        "  else:\n",
        "        print(\"Você ganhou!\")\n",
        "        break\n",
        "#while resp !=\"S\" or resp !=\"N\":\n",
        "  #print(\"Não entendi\")\n",
        "  #break\n",
        "      "
      ],
      "metadata": {
        "colab": {
          "base_uri": "https://localhost:8080/"
        },
        "id": "zkqW_4jRbFd6",
        "outputId": "c3c3d4ce-15ae-43a5-a4ec-2370f79753de"
      },
      "execution_count": null,
      "outputs": [
        {
          "name": "stdout",
          "output_type": "stream",
          "text": [
            "Por favor. Digite apenas:\n",
            "S-(sim)\n",
            "N-(não)\n",
            "Você tem 2 pontos\n",
            "Quer mais? kkkk\n"
          ]
        }
      ]
    },
    {
      "cell_type": "code",
      "source": [
        "#------- par ou impar\n",
        "\n",
        "from random import randint\n",
        "op = input(\"Par ou Ímpar?\\nPrecisa escrever direito: \")\n",
        "op = op.upper()\n",
        "num = int(input(\"Digite um número: \"))\n",
        "a = randint(1,2)\n",
        "print(\"Seu adversário escolheu\",a)\n",
        "calc = a+num\n",
        "if calc%2==0:\n",
        "  i = \"PAR\"\n",
        "else:\n",
        "  i = \"ÍMPAR\"\n",
        "if i==op:\n",
        "  print(\"Ganhou\")\n",
        "else:\n",
        "  print(\"Perdeu\")"
      ],
      "metadata": {
        "id": "vJnY20Kvlk_B"
      },
      "execution_count": null,
      "outputs": []
    },
    {
      "cell_type": "code",
      "source": [
        ""
      ],
      "metadata": {
        "id": "kYttePHIhHlc"
      },
      "execution_count": null,
      "outputs": []
    }
  ]
}